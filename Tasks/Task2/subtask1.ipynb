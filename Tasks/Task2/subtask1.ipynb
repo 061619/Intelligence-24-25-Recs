{
 "cells": [
  {
   "cell_type": "markdown",
   "id": "944bc2e8-8417-4c77-bc2a-91aaac7dd1fe",
   "metadata": {},
   "source": [
    "pseudocode for enhancement using variational autoencoder"
   ]
  },
  {
   "cell_type": "markdown",
   "id": "da6a7f92-1c62-414d-99af-fd6252b771fb",
   "metadata": {},
   "source": [
    "##importing necessary libraries"
   ]
  },
  {
   "cell_type": "code",
   "execution_count": 8,
   "id": "dc68e5b7-a8da-46d8-bea3-7a4b984955d2",
   "metadata": {},
   "outputs": [
    {
     "name": "stdout",
     "output_type": "stream",
     "text": [
      "Collecting opencv-python\n",
      "  Using cached opencv_python-4.10.0.84-cp37-abi3-win_amd64.whl.metadata (20 kB)\n",
      "Requirement already satisfied: numpy>=1.21.2 in c:\\users\\samru\\downloads\\idk\\lib\\site-packages (from opencv-python) (1.26.4)\n",
      "Using cached opencv_python-4.10.0.84-cp37-abi3-win_amd64.whl (38.8 MB)\n",
      "Installing collected packages: opencv-python\n",
      "Successfully installed opencv-python-4.10.0.84\n",
      "Note: you may need to restart the kernel to use updated packages.\n"
     ]
    }
   ],
   "source": [
    "pip install opencv-python"
   ]
  },
  {
   "cell_type": "code",
   "execution_count": 9,
   "id": "9cc4b31f-f8b2-4f6a-834a-ad86d6dc127e",
   "metadata": {},
   "outputs": [],
   "source": [
    "import tensorflow as tf\n",
    "from tensorflow.keras import layers, Model\n",
    "import numpy as np\n",
    "import matplotlib.pyplot as plt\n",
    "import cv2"
   ]
  },
  {
   "cell_type": "markdown",
   "id": "28370aea-ed55-48c1-93fd-b978c2c5dc4f",
   "metadata": {},
   "source": [
    "##function to preprocess the dataset"
   ]
  },
  {
   "cell_type": "code",
   "execution_count": 12,
   "id": "d4ae8f1c-c77a-45e7-9975-5ec9e7192022",
   "metadata": {},
   "outputs": [],
   "source": [
    "def preprocess(images, img_shape=(128, 128)):\n",
    "    images = [cv2.resize(img, img_shape) for img in images]\n",
    "    ##normalizing the img pixels betn 0 and 1\n",
    "    images = np.array(images) / 255.0\n",
    "    return images"
   ]
  },
  {
   "cell_type": "markdown",
   "id": "988b5609-b0ea-4a7a-9e15-55cbf73fd8c8",
   "metadata": {},
   "source": [
    "##function for the vae encoder..encoder will take in high dimension input and compress into a latent representation which will have only important features of the image.\n",
    "##encoder will use cnn layers and flattenening to do this"
   ]
  },
  {
   "cell_type": "code",
   "execution_count": 14,
   "id": "3b85e84e-4d68-418a-9559-a8c4ed987324",
   "metadata": {},
   "outputs": [],
   "source": [
    "latent_dimensions= 64\n",
    "## the high dimension input ie 128*128 will reduce to 64*64 dimension\n",
    "class Encoder(Model):\n",
    "    def __init__(self, latent_dim):\n",
    "        super(Encoder, self).__init__()\n",
    "        self.con1= layers.Conv2D(32, (3, 3), activation='relu', strides=2, padding='same')\n",
    "        ##32 filters of 3*3 dimensions\n",
    "        \n",
    "        self.con2 = layers.Conv2D(64, (3, 3), activation='relu', strides=2, padding='same')\n",
    "        ##64 filters with 3*3 dimensions\n",
    "        \n",
    "        self.flatten = layers.Flatten()\n",
    "\n",
    "        ##will give the centre of distribution\n",
    "        self.dense_mean = layers.Dense(latent_dim)\n",
    "\n",
    "        ##will indicate the spread of distribution\n",
    "        self.dense_log_variance = layers.Dense(latent_dim)\n",
    "            \n",
    "    def call(self, x):\n",
    "        x = self.con1(x)\n",
    "        x = self.con2(x)\n",
    "        x = self.flatten(x)\n",
    "        mean = self.dense_mean(x)\n",
    "        log_var = self.dense_log_variance(x)\n",
    "        return mean, log_variance"
   ]
  },
  {
   "cell_type": "markdown",
   "id": "246aff67-aa5c-4ea5-bd25-6d31926981cd",
   "metadata": {},
   "source": [
    "##function for decoder which will reconstruct the image from the latent representation"
   ]
  },
  {
   "cell_type": "code",
   "execution_count": 16,
   "id": "5073b23b-4bde-4de5-ab23-27d928cc3607",
   "metadata": {},
   "outputs": [],
   "source": [
    "class Decoder(Model):\n",
    "    def __init__(self, latent_dim):\n",
    "        super(Decoder, self).__init__()\n",
    "        self.dense = layers.Dense(32 * 32 * 64, activation='relu')\n",
    "        self.reshape = layers.Reshape((32, 32, 64))\n",
    "        \n",
    "        self.conT1 = layers.Conv2DTranspose(64, (3, 3), activation='relu', strides=2, padding='same')\n",
    "        ##image will now have 64*64 dimensions\n",
    "        self.conT2 = layers.Conv2DTranspose(32, (3, 3), activation='relu', strides=2, padding='same')\n",
    "        ##image will now have 128*128 dimensions same as the input image\n",
    "        \n",
    "        self.conT3 = layers.Conv2DTranspose(3, (3, 3), activation='sigmoid', padding='same')\n",
    "        ##three filters which will act as three channels for red green blue since we want the img in rgb format\n",
    "        \n",
    "    def call(self, z):\n",
    "        x = self.dense(z)\n",
    "        x = self.reshape(x)\n",
    "        x = self.conT1(x)\n",
    "        x = self.conT2(x)\n",
    "        return self.conT3(x)"
   ]
  },
  {
   "cell_type": "raw",
   "id": "5a0cae27-6cd1-444d-8360-8133fc13d725",
   "metadata": {},
   "source": [
    "##applying reparameterization technique\n",
    "##reparametrization allows backpropogation through random sampling process , making it possible to train model using gradient based optimisation\n",
    "## we will shift and scale the sample which are dependant on mean and log_variance"
   ]
  },
  {
   "cell_type": "code",
   "execution_count": 18,
   "id": "0f871092-2934-4aba-bddd-5b392005fc5c",
   "metadata": {},
   "outputs": [],
   "source": [
    "def reparameterize(mean, log_variance):\n",
    "    ##here we are geenertaing sample based on standard mean which has same shape as mean\n",
    "    x = tf.random.normal(shape=mean.shape)\n",
    "\n",
    "    ##exp of log_variance*0.5 gives standard deviation(scaling) + mean gives shifted result\n",
    "    return x * tf.exp(log_variance * 0.5) + mean\n",
    "    "
   ]
  },
  {
   "cell_type": "markdown",
   "id": "4d1d194f-c795-448d-baaa-5fdb01b98ae2",
   "metadata": {},
   "source": [
    "##connecting the encoder and decoder in a cohesive manner"
   ]
  },
  {
   "cell_type": "code",
   "execution_count": 20,
   "id": "693519d4-0d75-4678-b66e-8a01af5ed5f0",
   "metadata": {},
   "outputs": [],
   "source": [
    "class connect(Model):\n",
    "    def __init__(self, encoder, decoder):\n",
    "        super(VAE, self).__init__()\n",
    "        self.encoder = encoder\n",
    "        self.decoder = decoder\n",
    "        \n",
    "    def call(self, x):\n",
    "        mean, log_var = self.encoder(x)\n",
    "        z = reparameterize(mean, log_variance)\n",
    "        reconstructed = self.decoder(z)\n",
    "        return reconstructed"
   ]
  },
  {
   "cell_type": "markdown",
   "id": "a598344f-4cfa-4505-a1ca-23509c1ce3fe",
   "metadata": {},
   "source": [
    "##defining loss function\n",
    "##vae uses two types of loss: reconstruction loss-tells how well the output images matches the input image , kl divergence loss-how well the latent space matches standard normalization."
   ]
  },
  {
   "cell_type": "code",
   "execution_count": 28,
   "id": "e4b897ab-9a6b-4c5d-a6ac-363118a7a6d5",
   "metadata": {},
   "outputs": [],
   "source": [
    "def loss(x, reconstructed, mean, log_variance):\n",
    "    reconstruction_loss = tf.reduce_mean(tf.keras.losses.mse(x, reconstructed))\n",
    "    \n",
    "    kl_loss = -0.5 * tf.reduce_mean(log_var - tf.square(mean) - tf.exp(log_var) + 1)\n",
    "\n",
    "    #total loss is addition of reconstruction loss and kl loss\n",
    "    return reconstruction_loss + kl_loss"
   ]
  },
  {
   "cell_type": "markdown",
   "id": "9becea04-fce5-41ca-8db7-9cf03cebde22",
   "metadata": {},
   "source": [
    "##training the vae model"
   ]
  },
  {
   "cell_type": "code",
   "execution_count": 30,
   "id": "7a0ede32-c863-4ef5-bf0a-383db9286ab8",
   "metadata": {},
   "outputs": [],
   "source": [
    "opt= tf.keras.optimizers.Adam()\n",
    "\n",
    "@tf.function\n",
    "#faster training and optimization\n",
    "\n",
    "def train(model, x, opt):\n",
    "    with tf.GradientTape() as tape:\n",
    "        mean, log_variance = model.encoder(x)\n",
    "        z = reparameterize(mean, log_variance)\n",
    "        reconstructed = model.decoder(z)\n",
    "        loss = compute_loss(x, reconstructed, mean, log_variance)\n",
    "    \n",
    "    gradients = tape.gradient(loss, model.trainable_variables)\n",
    "    optimizer.apply_gradients(zip(gradients, model.trainable_variables))\n",
    "    return loss"
   ]
  },
  {
   "cell_type": "code",
   "execution_count": 31,
   "id": "56effd8d-a0f5-4e18-963d-9990cdfe41e6",
   "metadata": {},
   "outputs": [],
   "source": [
    "def train_vae(model, dataset, epochs=25):\n",
    "    for epoch in range(epochs):\n",
    "        for step, x_batch_train in enumerate(train_df):\n",
    "            loss = train(model, x_batch_train, opt)\n",
    "        \n",
    "        print(f'Epoch {epoch}, Loss: {loss.numpy()}')"
   ]
  },
  {
   "cell_type": "markdown",
   "id": "3805cd75-2cc0-43d9-893d-f94b4220d58a",
   "metadata": {},
   "source": [
    "##generating enhanced images"
   ]
  },
  {
   "cell_type": "code",
   "execution_count": 35,
   "id": "d8e017fe-01ce-4bc3-883d-e7ee843160b3",
   "metadata": {},
   "outputs": [],
   "source": [
    "def enhanced(vae, test_df):\n",
    "    enhanced_images = []\n",
    "    for img in test_df:\n",
    "        mean, log_variance = vae.encoder(np.expand_dims(img, 0))\n",
    "        z = reparameterize(mean, log_variance)\n",
    "        enhanced_img = vae.decoder(z)\n",
    "        enhanced_images.append(enhanced_img.numpy()[0])\n",
    "    return np.array(enhanced_images)"
   ]
  },
  {
   "cell_type": "markdown",
   "id": "7517fb42-6fe8-435c-ae96-2273132c05e5",
   "metadata": {},
   "source": [
    "##visualization of images"
   ]
  },
  {
   "cell_type": "code",
   "execution_count": 38,
   "id": "e1573668-a19b-4b32-8246-ab78df7a0149",
   "metadata": {},
   "outputs": [],
   "source": [
    "def display_images(original, enhanced):\n",
    "    plt.figure(figsize=(10, 4))\n",
    "    \n",
    "    for i in range(5):\n",
    "        plt.subplot(2, 5, i + 1)\n",
    "        plt.imshow(original[i])\n",
    "        plt.axis('off')\n",
    "        \n",
    "        plt.subplot(2, 5, i + 6)\n",
    "        plt.imshow(enhanced[i])\n",
    "        plt.axis('off')\n",
    "        \n",
    "    plt.show()"
   ]
  }
 ],
 "metadata": {
  "kernelspec": {
   "display_name": "Python 3 (ipykernel)",
   "language": "python",
   "name": "python3"
  },
  "language_info": {
   "codemirror_mode": {
    "name": "ipython",
    "version": 3
   },
   "file_extension": ".py",
   "mimetype": "text/x-python",
   "name": "python",
   "nbconvert_exporter": "python",
   "pygments_lexer": "ipython3",
   "version": "3.11.7"
  }
 },
 "nbformat": 4,
 "nbformat_minor": 5
}
